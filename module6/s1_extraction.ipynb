{
 "cells": [
  {
   "cell_type": "markdown",
   "metadata": {},
   "source": [
    "# Extract text from various types of files"
   ]
  },
  {
   "cell_type": "code",
   "execution_count": null,
   "metadata": {},
   "outputs": [],
   "source": [
    "import os\n",
    "import textract\n",
    "import openpyxl"
   ]
  },
  {
   "cell_type": "markdown",
   "metadata": {},
   "source": [
    "Nous allons lister tous les fichiers dans le dossier `dummy`"
   ]
  },
  {
   "cell_type": "code",
   "execution_count": null,
   "metadata": {},
   "outputs": [],
   "source": [
    "path = 'dummy/'\n",
    "files = os.listdir(path)\n",
    "print(files)"
   ]
  },
  {
   "cell_type": "markdown",
   "metadata": {},
   "source": [
    "Pour chaque fichier (Word, PowerPoint, MP3, etc.) nous allons extraire le texte avec une boucle `for`.\n",
    "\n",
    "\n",
    "**Important**, si vous recevez le message d'erreur suivant `The command XXX dummy/test.XXX stdout failed because the executable XXX is not installed on your system`, lisez bien la documentation ici :\n",
    "\n",
    "https://textract.readthedocs.io/en/latest/installation.html\n",
    "\n",
    "Exécutez ces trois commandes sur MacOs\n",
    "- `brew cask install xquartz`\n",
    "- `brew install poppler antiword unrtf tesseract swig sox`\n",
    "- `pip install textract`\n",
    "\n",
    "Et ceci sur Linux\n",
    "- `apt-get install python-dev libxml2-dev libxslt1-dev antiword unrtf poppler-utils pstotext tesseract-ocr flac ffmpeg lame libmad0 libsox-fmt-mp3 sox libjpeg-dev swig libpulse-dev`\n",
    "- `pip install textract`\n",
    "\n",
    "Certains messages d'erreurs peuvent apparaîtres, vous devrez probablement ouvrir les droits en lecture de certains fichiers avec la commande `chmod`.\n"
   ]
  },
  {
   "cell_type": "code",
   "execution_count": null,
   "metadata": {},
   "outputs": [],
   "source": [
    "for f in sorted(files):\n",
    "    try:\n",
    "        text = textract.process(os.path.join(path, f))\n",
    "        print(text.decode('utf-8').strip())\n",
    "    except Exception as e:\n",
    "        print(os.path.join(path, f), e)"
   ]
  }
 ],
 "metadata": {
  "kernelspec": {
   "display_name": "Python 3 (ipykernel)",
   "language": "python",
   "name": "python3"
  },
  "language_info": {
   "codemirror_mode": {
    "name": "ipython",
    "version": 3
   },
   "file_extension": ".py",
   "mimetype": "text/x-python",
   "name": "python",
   "nbconvert_exporter": "python",
   "pygments_lexer": "ipython3",
   "version": "3.9.7"
  }
 },
 "nbformat": 4,
 "nbformat_minor": 4
}
