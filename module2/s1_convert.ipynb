{
 "metadata": {
  "language_info": {
   "codemirror_mode": {
    "name": "ipython",
    "version": 3
   },
   "file_extension": ".py",
   "mimetype": "text/x-python",
   "name": "python",
   "nbconvert_exporter": "python",
   "pygments_lexer": "ipython3",
   "version": "3.7.7-final"
  },
  "orig_nbformat": 2,
  "kernelspec": {
   "name": "Python 3.7.7 64-bit ('venv': venv)",
   "display_name": "Python 3.7.7 64-bit ('venv': venv)",
   "metadata": {
    "interpreter": {
     "hash": "ed2973e18a45e46195aea83f71ebc09fe8d3266afb265a31fa421a956b7d8fb0"
    }
   }
  }
 },
 "nbformat": 4,
 "nbformat_minor": 2,
 "cells": [
  {
   "source": [
    "# Converting PDFs to text files and moving them to a new directory"
   ],
   "cell_type": "markdown",
   "metadata": {}
  },
  {
   "source": [
    "## Lister les fichiers dans `data/pdf`"
   ],
   "cell_type": "markdown",
   "metadata": {}
  },
  {
   "cell_type": "code",
   "execution_count": 14,
   "metadata": {},
   "outputs": [],
   "source": [
    "from os import listdir\n",
    "from os.path import isfile, join\n",
    "\n",
    "pdf_path = '../data/pdf'"
   ]
  },
  {
   "cell_type": "code",
   "execution_count": 15,
   "metadata": {},
   "outputs": [],
   "source": [
    "pdfs = [f for f in listdir(pdf_path) if isfile(join(pdf_path, f))]"
   ]
  },
  {
   "cell_type": "code",
   "execution_count": 16,
   "metadata": {},
   "outputs": [
    {
     "output_type": "execute_result",
     "data": {
      "text/plain": [
       "['Bxl_1851_Tome_I1_Part_2.pdf',\n",
       " 'Bxl_1871_Tome_I1_Part_1.pdf',\n",
       " 'Bxl_1862_Tome_I1_Part_4.pdf']"
      ]
     },
     "metadata": {},
     "execution_count": 16
    }
   ],
   "source": [
    "pdfs[:3]"
   ]
  },
  {
   "source": [
    "## Installer PdfToText (MacOS)\n",
    "\n",
    "Sur le terminal, lancer :\n",
    "\n",
    "```\n",
    "ruby -e \"$(curl -fsSL https://raw.githubusercontent.com/Homebrew/install/master/install)\" < /dev/null 2> /dev/null ; brew install caskroom/cask/brew-cask 2> /dev/null\n",
    "```\n",
    "\n",
    "Et puis :\n",
    "```\n",
    "brew cask install pdftotext\n",
    "```"
   ],
   "cell_type": "markdown",
   "metadata": {}
  },
  {
   "source": [
    "## Convertir les PDFs en TXT"
   ],
   "cell_type": "markdown",
   "metadata": {}
  },
  {
   "cell_type": "code",
   "execution_count": 17,
   "metadata": {},
   "outputs": [],
   "source": [
    "import subprocess"
   ]
  },
  {
   "cell_type": "code",
   "execution_count": 18,
   "metadata": {},
   "outputs": [],
   "source": [
    "from pathlib import Path\n",
    "\n",
    "txt_path = '../data/txt'\n",
    "\n",
    "Path(txt_path).mkdir(parents=True, exist_ok=True)"
   ]
  },
  {
   "cell_type": "code",
   "execution_count": 19,
   "metadata": {},
   "outputs": [],
   "source": [
    "txts = [f for f in listdir(txt_path) if isfile(join(txt_path, f))]"
   ]
  },
  {
   "cell_type": "code",
   "execution_count": 24,
   "metadata": {},
   "outputs": [],
   "source": [
    "not_converted_pdfs = [p for p in pdfs if f'{p[:-3]}txt' not in txts]"
   ]
  },
  {
   "cell_type": "code",
   "execution_count": 25,
   "metadata": {},
   "outputs": [
    {
     "output_type": "execute_result",
     "data": {
      "text/plain": [
       "213"
      ]
     },
     "metadata": {},
     "execution_count": 25
    }
   ],
   "source": [
    "len(pdfs)"
   ]
  },
  {
   "cell_type": "code",
   "execution_count": 26,
   "metadata": {},
   "outputs": [
    {
     "output_type": "execute_result",
     "data": {
      "text/plain": [
       "21"
      ]
     },
     "metadata": {},
     "execution_count": 26
    }
   ],
   "source": [
    "len(not_converted_pdfs)"
   ]
  },
  {
   "cell_type": "code",
   "execution_count": 27,
   "metadata": {
    "tags": []
   },
   "outputs": [
    {
     "output_type": "stream",
     "name": "stdout",
     "text": [
      "Bxl_1871_Tome_I1_Part_4.pdf converted!\n",
      "Bxl_1871_Tome_I1_Part_5.pdf converted!\n",
      "Bxl_1870_Tome_II1_Part_3.pdf converted!\n",
      "Bxl_1870_Tome_I1_Part_6.pdf converted!\n",
      "Bxl_1871_Tome_II1_Part_2.pdf converted!\n",
      "Bxl_1871_Tome_II1_Part_3.pdf converted!\n",
      "Bxl_1870_Tome_II1_Part_2.pdf converted!\n",
      "Bxl_1870_Tome_I1_Part_5.pdf converted!\n",
      "Bxl_1871_Tome_II1_Part_1.pdf converted!\n",
      "Bxl_1870_Tome_I1_Part_4.pdf converted!\n",
      "Bxl_1870_Tome_II1_Part_1.pdf converted!\n",
      "Bxl_1870_Tome_II1_Part_5.pdf converted!\n",
      "Bxl_1871_Tome_II1_Part_4.pdf converted!\n",
      "Bxl_1869_Tome_II1_Part_5.pdf converted!\n",
      "Bxl_1869_Tome_II1_Part_4.pdf converted!\n",
      "Bxl_1870_Tome_I1_Part_1.pdf converted!\n",
      "Bxl_1870_Tome_II1_Part_4.pdf converted!\n",
      "Bxl_1870_Tome_II1_Part_6.pdf converted!\n",
      "Bxl_1870_Tome_I1_Part_3.pdf converted!\n",
      "Bxl_1870_Tome_I1_Part_2.pdf converted!\n",
      "Bxl_1870_Tome_II1_Part_7.pdf converted!\n"
     ]
    }
   ],
   "source": [
    "for pdf in not_converted_pdfs:\n",
    "    command = [\n",
    "        'pdftotext',\n",
    "        f'{pdf_path}/{pdf}',\n",
    "        f'{txt_path}/{pdf[:-3]}txt'\n",
    "    ]\n",
    "    subprocess.run(command, capture_output=True)\n",
    "    print(f\"{pdf} converted!\")"
   ]
  },
  {
   "source": [
    "Subprocess permet de lancer des commandes bash telles que celle ci-dessous pour l'ensemble des PDFs téléchargés.\n",
    "\n",
    "`pdftotext data/pdf/Bxl_1847_Tome_I1_Part_2.pdf data/txt/Bxl_1847_Tome_I1_Part_2.txt`\n",
    "\n",
    "Une commande pdftotext se structure comme ceci : `pdftotext fichier_source fichier_cible`"
   ],
   "cell_type": "markdown",
   "metadata": {}
  },
  {
   "source": [
    "## Consolider tous les fichiers en un (Bash)\n",
    "\n",
    "- `cat` permet d'imprimer le contenu de fichiers textes\n",
    "- Un pattern (ici `.../*.txt`) permet d'appliquer la commande sur tous les fichiers qui matchent\n",
    "- `>` permet de rediriger le résultat de la commande précédente dans un fichier\n",
    "\n",
    "Pour en savoir plus sur les flux de redirections :\n",
    "https://openclassrooms.com/fr/courses/43538-reprenez-le-controle-a-laide-de-linux/40444-les-flux-de-redirection"
   ],
   "cell_type": "markdown",
   "metadata": {}
  },
  {
   "cell_type": "code",
   "execution_count": 28,
   "metadata": {
    "tags": []
   },
   "outputs": [],
   "source": [
    "!cat ../data/txt/*.txt > ../data/all.txt"
   ]
  },
  {
   "source": [
    "## Compter le nombre de mots"
   ],
   "cell_type": "markdown",
   "metadata": {}
  },
  {
   "cell_type": "code",
   "execution_count": 29,
   "metadata": {
    "tags": []
   },
   "outputs": [
    {
     "output_type": "stream",
     "name": "stdout",
     "text": [
      "  327602 9147176 43356168 ../data/all.txt\n"
     ]
    }
   ],
   "source": [
    "!wc ../data/all.txt"
   ]
  },
  {
   "source": [
    "On obtient ici, dans l'ordre, le nombre de lignes, de mots, d'octets.\n",
    "\n",
    "Pour en savoir plus sur la commande wc: https://fr.wikipedia.org/wiki/Wc_(Unix)"
   ],
   "cell_type": "markdown",
   "metadata": {}
  },
  {
   "cell_type": "code",
   "execution_count": null,
   "metadata": {},
   "outputs": [],
   "source": []
  }
 ]
}