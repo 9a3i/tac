{
 "metadata": {
  "language_info": {
   "codemirror_mode": {
    "name": "ipython",
    "version": 3
   },
   "file_extension": ".py",
   "mimetype": "text/x-python",
   "name": "python",
   "nbconvert_exporter": "python",
   "pygments_lexer": "ipython3",
   "version": "3.8.5-final"
  },
  "orig_nbformat": 2,
  "kernelspec": {
   "name": "Python 3.8.5 64-bit ('venv': virtualenv)",
   "display_name": "Python 3.8.5 64-bit ('venv': virtualenv)",
   "metadata": {
    "interpreter": {
     "hash": "0db3faaa3df0159b5bafcd6d260557c66dc7ed2363d564044ba237865e0e2379"
    }
   }
  }
 },
 "nbformat": 4,
 "nbformat_minor": 2,
 "cells": [
  {
   "source": [
    "# Query Wikidata for Belgian politicians"
   ],
   "cell_type": "markdown",
   "metadata": {}
  },
  {
   "cell_type": "code",
   "execution_count": 4,
   "metadata": {},
   "outputs": [],
   "source": [
    "from datetime import datetime as dt\n",
    "\n",
    "from SPARQLWrapper import SPARQLWrapper, JSON"
   ]
  },
  {
   "source": [
    "## Fonctions"
   ],
   "cell_type": "markdown",
   "metadata": {}
  },
  {
   "cell_type": "code",
   "execution_count": 5,
   "metadata": {},
   "outputs": [],
   "source": [
    "def get_rows():\n",
    "    \"\"\"Retrieve results from SPARQL\"\"\"\n",
    "    endpoint = \"https://query.wikidata.org/bigdata/namespace/wdq/sparql\"\n",
    "    sparql = SPARQLWrapper(endpoint)\n",
    "\n",
    "    statement = \"\"\"\n",
    "    SELECT DISTINCT ?person ?personLabel ?dateBirth ?dateDeath WHERE {\n",
    "        ?person wdt:P27 wd:Q31 .\n",
    "        ?person wdt:P106 wd:Q82955 .\n",
    "        ?person wdt:P569 ?dateBirth .\n",
    "        OPTIONAL {?person wdt:P570 ?dateDeath .}\n",
    "        SERVICE wikibase:label { bd:serviceParam wikibase:language \"en\" . }\n",
    "    }\n",
    "    ORDER BY ?personLabel\n",
    "    \"\"\"\n",
    "\n",
    "    sparql.setQuery(statement)\n",
    "    sparql.setReturnFormat(JSON)\n",
    "    results = sparql.query().convert()\n",
    "\n",
    "    rows = results['results']['bindings']\n",
    "    print(f\"\\n{len(rows)} Belgian politicians found\\n\")\n",
    "    return rows"
   ]
  },
  {
   "cell_type": "code",
   "execution_count": 6,
   "metadata": {},
   "outputs": [],
   "source": [
    "def show(rows, filter=None, n=10):\n",
    "    \"\"\"Display n politicians (default=10)\"\"\"\n",
    "    date_format = \"%Y-%m-%dT%H:%M:%SZ\"\n",
    "    if filter:\n",
    "        rows = [row for row in rows if filter in row['personLabel']['value'].lower()]\n",
    "    print(f\"Displaying the first {n}:\\n\")\n",
    "    for row in rows[:n]:\n",
    "        try:\n",
    "            birth_date = dt.strptime(row['dateBirth']['value'], date_format)\n",
    "            birth_year = birth_date.year\n",
    "        except ValueError:\n",
    "            birth_year = \"????\"\n",
    "        try:\n",
    "            death_date = dt.strptime(row['dateDeath']['value'], date_format)\n",
    "            death_year = death_date.year\n",
    "        except ValueError:\n",
    "            death_year = \"????\"\n",
    "        except KeyError:\n",
    "            death_year = \"????\"\n",
    "        print(f\"{row['personLabel']['value']} ({birth_year}-{death_year})\")"
   ]
  },
  {
   "source": [
    "## Obtenir une liste des politiciens belges depuis Wiki Data "
   ],
   "cell_type": "markdown",
   "metadata": {}
  },
  {
   "cell_type": "code",
   "execution_count": 7,
   "metadata": {
    "tags": []
   },
   "outputs": [
    {
     "output_type": "stream",
     "name": "stdout",
     "text": "\n7474 Belgian politicians found\n\n"
    }
   ],
   "source": [
    "rows = get_rows()"
   ]
  },
  {
   "source": [
    "## Imprimer les 30 premiers politiciens"
   ],
   "cell_type": "markdown",
   "metadata": {}
  },
  {
   "cell_type": "code",
   "execution_count": 9,
   "metadata": {
    "tags": []
   },
   "outputs": [
    {
     "output_type": "stream",
     "name": "stdout",
     "text": "Displaying the first 30:\n\n"
    },
    {
     "output_type": "error",
     "ename": "KeyError",
     "evalue": "'dateDeath'",
     "traceback": [
      "\u001b[0;31m---------------------------------------------------------------------------\u001b[0m",
      "\u001b[0;31mKeyError\u001b[0m                                  Traceback (most recent call last)",
      "\u001b[0;32m<ipython-input-9-e1f096df7ef5>\u001b[0m in \u001b[0;36m<module>\u001b[0;34m\u001b[0m\n\u001b[0;32m----> 1\u001b[0;31m \u001b[0mshow\u001b[0m\u001b[0;34m(\u001b[0m\u001b[0mrows\u001b[0m\u001b[0;34m,\u001b[0m \u001b[0mn\u001b[0m\u001b[0;34m=\u001b[0m\u001b[0;36m30\u001b[0m\u001b[0;34m)\u001b[0m\u001b[0;34m\u001b[0m\u001b[0;34m\u001b[0m\u001b[0m\n\u001b[0m",
      "\u001b[0;32m<ipython-input-6-7e5ba3a5d6a6>\u001b[0m in \u001b[0;36mshow\u001b[0;34m(rows, filter, n)\u001b[0m\n\u001b[1;32m     12\u001b[0m             \u001b[0mbirth_year\u001b[0m \u001b[0;34m=\u001b[0m \u001b[0;34m\"????\"\u001b[0m\u001b[0;34m\u001b[0m\u001b[0;34m\u001b[0m\u001b[0m\n\u001b[1;32m     13\u001b[0m         \u001b[0;32mtry\u001b[0m\u001b[0;34m:\u001b[0m\u001b[0;34m\u001b[0m\u001b[0;34m\u001b[0m\u001b[0m\n\u001b[0;32m---> 14\u001b[0;31m             \u001b[0mdeath_date\u001b[0m \u001b[0;34m=\u001b[0m \u001b[0mdt\u001b[0m\u001b[0;34m.\u001b[0m\u001b[0mstrptime\u001b[0m\u001b[0;34m(\u001b[0m\u001b[0mrow\u001b[0m\u001b[0;34m[\u001b[0m\u001b[0;34m'dateDeath'\u001b[0m\u001b[0;34m]\u001b[0m\u001b[0;34m[\u001b[0m\u001b[0;34m'value'\u001b[0m\u001b[0;34m]\u001b[0m\u001b[0;34m,\u001b[0m \u001b[0mdate_format\u001b[0m\u001b[0;34m)\u001b[0m\u001b[0;34m\u001b[0m\u001b[0;34m\u001b[0m\u001b[0m\n\u001b[0m\u001b[1;32m     15\u001b[0m             \u001b[0mdeath_year\u001b[0m \u001b[0;34m=\u001b[0m \u001b[0mdeath_date\u001b[0m\u001b[0;34m.\u001b[0m\u001b[0myear\u001b[0m\u001b[0;34m\u001b[0m\u001b[0;34m\u001b[0m\u001b[0m\n\u001b[1;32m     16\u001b[0m         \u001b[0;32mexcept\u001b[0m \u001b[0mValueError\u001b[0m\u001b[0;34m:\u001b[0m\u001b[0;34m\u001b[0m\u001b[0;34m\u001b[0m\u001b[0m\n",
      "\u001b[0;31mKeyError\u001b[0m: 'dateDeath'"
     ]
    }
   ],
   "source": [
    "show(rows, n=30)"
   ]
  },
  {
   "source": [
    "## Filter pour afficher seulement les \"Alberts\""
   ],
   "cell_type": "markdown",
   "metadata": {}
  },
  {
   "cell_type": "code",
   "execution_count": 33,
   "metadata": {
    "tags": []
   },
   "outputs": [
    {
     "output_type": "stream",
     "name": "stdout",
     "text": "Displaying the first 10:\n\nAchille Albert Eeman (1852-1920)\nAlbert Alexandre Lefebvre (1854-1911)\nAlbert Apers (1870-1942)\nAlbert Asou (1857-1940)\nAlbert Auguste Ghislain Martin (1912-1976)\nAlbert Baltus (1910-2001)\nAlbert Bauwens (1861-1950)\nAlbert Behaeghel (1856-1941)\nAlbert Benoit (1915-1995)\nAlbert Beyltjens (1901-1992)\n"
    }
   ],
   "source": [
    "show(rows, filter=\"albert\")"
   ]
  },
  {
   "cell_type": "code",
   "execution_count": null,
   "metadata": {},
   "outputs": [],
   "source": []
  }
 ]
}