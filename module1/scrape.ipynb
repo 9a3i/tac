{
 "metadata": {
  "language_info": {
   "codemirror_mode": {
    "name": "ipython",
    "version": 3
   },
   "file_extension": ".py",
   "mimetype": "text/x-python",
   "name": "python",
   "nbconvert_exporter": "python",
   "pygments_lexer": "ipython3",
   "version": "3.7.7-final"
  },
  "orig_nbformat": 2,
  "kernelspec": {
   "name": "Python 3.7.7 64-bit ('venv': venv)",
   "display_name": "Python 3.7.7 64-bit ('venv': venv)",
   "metadata": {
    "interpreter": {
     "hash": "ed2973e18a45e46195aea83f71ebc09fe8d3266afb265a31fa421a956b7d8fb0"
    }
   }
  }
 },
 "nbformat": 4,
 "nbformat_minor": 2,
 "cells": [
  {
   "source": [
    "# Scraping the AVB for PDFs of bulletins"
   ],
   "cell_type": "markdown",
   "metadata": {}
  },
  {
   "cell_type": "code",
   "execution_count": 2,
   "metadata": {},
   "outputs": [],
   "source": [
    "import os\n",
    "import re\n",
    "import time\n",
    "import sys\n",
    "\n",
    "import requests"
   ]
  },
  {
   "source": [
    "## Fonctions"
   ],
   "cell_type": "markdown",
   "metadata": {}
  },
  {
   "cell_type": "code",
   "execution_count": 3,
   "metadata": {},
   "outputs": [],
   "source": [
    "def get_urls():\n",
    "    \"\"\"Retrieve all URLs from root AVB page\"\"\"\n",
    "    root_url = \"https://archives.bruxelles.be/bulletins/date\"\n",
    "    resp = requests.get(root_url)\n",
    "    print(f\"Status: {resp.status_code}\")\n",
    "    print(f\"Encoding: {resp.encoding}\")\n",
    "    html = resp.text\n",
    "    print(f\"Text length: {len(html)}\")\n",
    "\n",
    "    pattern = r\"https://archief.brussel.be/Colossus/BulletinsCommunaux/Bulletins/Documents/.*\\.pdf\"\n",
    "    urls = re.findall(pattern, html)\n",
    "    print(f\"{len(urls)} PDF files found\")\n",
    "    return urls"
   ]
  },
  {
   "cell_type": "code",
   "execution_count": 4,
   "metadata": {},
   "outputs": [],
   "source": [
    "def download(urls, offset=0):\n",
    "    \"\"\"Dowloading all files starting from offset\"\"\"\n",
    "    for url in urls[offset:]:\n",
    "        filename = url.split(\"/\")[-1]\n",
    "        print(f\"Dowloading {filename}...\")\n",
    "        start_time = time.time()\n",
    "        response = requests.get(url)\n",
    "        print(f\"   done in {(time.time() - start_time):.1f} seconds\")\n",
    "        with open(f\"data/pdf/{filename}\", 'wb') as f:\n",
    "            f.write(response.content)"
   ]
  },
  {
   "cell_type": "code",
   "execution_count": 26,
   "metadata": {},
   "outputs": [],
   "source": [
    "def check(urls):\n",
    "    \"\"\"Check if all files have been downloaded\"\"\"\n",
    "    ok_count = 0\n",
    "    for url in urls:\n",
    "        filename = url.split(\"/\")[-1]\n",
    "        downloads = os.listdir('data/pdf')\n",
    "        if filename not in downloads:\n",
    "            print(f\"{filename} is missing!\")\n",
    "        else:\n",
    "            ok_count += 1\n",
    "    print(f\"{ok_count} PDFs found on {len(urls)}!\")"
   ]
  },
  {
   "source": [
    "## Obtenir les URLs des bulletins communaux "
   ],
   "cell_type": "markdown",
   "metadata": {}
  },
  {
   "cell_type": "code",
   "execution_count": 8,
   "metadata": {
    "tags": []
   },
   "outputs": [
    {
     "output_type": "stream",
     "name": "stdout",
     "text": "Status: 200\nEncoding: utf-8\nText length: 821431\n2833 PDF files found\n"
    }
   ],
   "source": [
    "urls = get_urls()"
   ]
  },
  {
   "cell_type": "code",
   "execution_count": 12,
   "metadata": {},
   "outputs": [
    {
     "output_type": "execute_result",
     "data": {
      "text/plain": "2833"
     },
     "metadata": {},
     "execution_count": 12
    }
   ],
   "source": [
    "len(urls)"
   ]
  },
  {
   "cell_type": "code",
   "execution_count": 13,
   "metadata": {},
   "outputs": [
    {
     "output_type": "execute_result",
     "data": {
      "text/plain": "['https://archief.brussel.be/Colossus/BulletinsCommunaux/Bulletins/Documents/Bxl_1847_Tome_I1_Part_1.pdf',\n 'https://archief.brussel.be/Colossus/BulletinsCommunaux/Bulletins/Documents/Bxl_1847_Tome_I1_Part_2.pdf',\n 'https://archief.brussel.be/Colossus/BulletinsCommunaux/Bulletins/Documents/Bxl_1847_Tome_I1_Part_3.pdf']"
     },
     "metadata": {},
     "execution_count": 13
    }
   ],
   "source": [
    "urls[:3]"
   ]
  },
  {
   "source": [
    "## Créer un dossier `data/pdf` s'il n'existe pas"
   ],
   "cell_type": "markdown",
   "metadata": {}
  },
  {
   "cell_type": "code",
   "execution_count": 14,
   "metadata": {},
   "outputs": [],
   "source": [
    "from pathlib import Path\n",
    "\n",
    "Path(\"data/pdf\").mkdir(parents=True, exist_ok=True)"
   ]
  },
  {
   "source": [
    "## Télécharger les 3 premiers PDFs"
   ],
   "cell_type": "markdown",
   "metadata": {}
  },
  {
   "cell_type": "code",
   "execution_count": 29,
   "metadata": {
    "tags": []
   },
   "outputs": [
    {
     "output_type": "stream",
     "name": "stdout",
     "text": "Dowloading Bxl_1847_Tome_I1_Part_1.pdf...\n   done in 15.2 seconds\nDowloading Bxl_1847_Tome_I1_Part_2.pdf...\n   done in 14.2 seconds\nDowloading Bxl_1847_Tome_I1_Part_3.pdf...\n   done in 13.8 seconds\n"
    }
   ],
   "source": [
    "download(urls[:3])"
   ]
  },
  {
   "source": [
    "## Vérifier si les 3 premiers PDFs ont été téléchargés"
   ],
   "cell_type": "markdown",
   "metadata": {}
  },
  {
   "cell_type": "code",
   "execution_count": 30,
   "metadata": {
    "tags": []
   },
   "outputs": [
    {
     "output_type": "stream",
     "name": "stdout",
     "text": "3 PDFs found on 3!\n"
    }
   ],
   "source": [
    "check(urls[:3])"
   ]
  }
 ]
}