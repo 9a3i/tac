{
 "cells": [
  {
   "cell_type": "markdown",
   "metadata": {},
   "source": [
    "# APIs: requêtes HTTP"
   ]
  },
  {
   "cell_type": "markdown",
   "metadata": {},
   "source": [
    "## Imports"
   ]
  },
  {
   "cell_type": "code",
   "execution_count": 1,
   "metadata": {},
   "outputs": [],
   "source": [
    "import json\n",
    "import requests"
   ]
  },
  {
   "cell_type": "code",
   "execution_count": 3,
   "metadata": {},
   "outputs": [
    {
     "data": {
      "text/plain": [
       "{'batchcomplete': '',\n",
       " 'continue': {'sroffset': 10, 'continue': '-||'},\n",
       " 'query': {'searchinfo': {'totalhits': 3687,\n",
       "   'suggestion': 'journaliste belge',\n",
       "   'suggestionsnippet': '<em>journaliste</em> belge'},\n",
       "  'search': [{'ns': 0,\n",
       "    'title': 'École de journalisme',\n",
       "    'pageid': 16328789,\n",
       "    'size': 38083,\n",
       "    'wordcount': 4119,\n",
       "    'snippet': 'Broadcast <span class=\"searchmatch\">Journalism</span> Training Council (Conseil de formation au <span class=\"searchmatch\">journalisme</span> de radiodiffusion). Il a été classé meilleur pour les études de <span class=\"searchmatch\">journalisme</span> de premier',\n",
       "    'timestamp': '2025-05-26T05:21:07Z'},\n",
       "   {'ns': 0,\n",
       "    'title': 'Anne-Sophie Depauw',\n",
       "    'pageid': 16904635,\n",
       "    'size': 4909,\n",
       "    'wordcount': 363,\n",
       "    'snippet': 'journaliste <span class=\"searchmatch\">belge</span> née en 1992. Elle a fait des études en communication et <span class=\"searchmatch\">journalisme</span> à l&#039;Université Libre de Bruxelles. Pendant ses études en <span class=\"searchmatch\">journalisme</span>, Anne-Sophie',\n",
       "    'timestamp': '2025-08-28T12:35:32Z'},\n",
       "   {'ns': 0,\n",
       "    'title': \"Journalisme d'enquête\",\n",
       "    'pageid': 342013,\n",
       "    'size': 110926,\n",
       "    'wordcount': 11754,\n",
       "    'snippet': 'Le <span class=\"searchmatch\">journalisme</span> d&#039;enquête, ou <span class=\"searchmatch\">journalisme</span> d&#039;investigation, est un genre journalistique qui se caractérise par des recherches approfondies sur un sujet',\n",
       "    'timestamp': '2025-09-25T04:41:46Z'},\n",
       "   {'ns': 0,\n",
       "    'title': 'Adrien Devyver',\n",
       "    'pageid': 7023752,\n",
       "    'size': 5082,\n",
       "    'wordcount': 527,\n",
       "    'snippet': 'est un journaliste <span class=\"searchmatch\">belge</span> ayant principalement travaillé pour la RTBF comme animateur de télévision. Après avoir étudié le <span class=\"searchmatch\">journalisme</span> à l&#039;UCL jusqu&#039;en 2007',\n",
       "    'timestamp': '2025-07-21T11:18:37Z'},\n",
       "   {'ns': 0,\n",
       "    'title': 'Florence Reuter',\n",
       "    'pageid': 1471723,\n",
       "    'size': 7651,\n",
       "    'wordcount': 561,\n",
       "    'snippet': '{{Référence nécessaire}} sur les passages nécessitant une source. Licenciée en <span class=\"searchmatch\">journalisme</span> et communication de l&#039;Université libre de Bruxelles, elle fait ses débuts',\n",
       "    'timestamp': '2025-09-21T22:52:36Z'},\n",
       "   {'ns': 0,\n",
       "    'title': 'Pauline Simonet',\n",
       "    'pageid': 16250418,\n",
       "    'size': 4326,\n",
       "    'wordcount': 315,\n",
       "    'snippet': 'en continu BFM TV. Pauline Simonet a étudié à l&#039;École supérieure de <span class=\"searchmatch\">journalisme</span> de Lille. En 2002, Pauline Simonet est une des rares journalistes présente',\n",
       "    'timestamp': '2025-08-26T16:14:30Z'},\n",
       "   {'ns': 0,\n",
       "    'title': 'Mariam Alard',\n",
       "    'pageid': 15481271,\n",
       "    'size': 4615,\n",
       "    'wordcount': 501,\n",
       "    'snippet': 'une Montoise à la présentation du JT\\xa0», sur RTBF (consulté le 25 février 2023). Portail de la Belgique Portail de la télévision Portail du <span class=\"searchmatch\">journalisme</span>',\n",
       "    'timestamp': '2024-06-30T11:20:15Z'},\n",
       "   {'ns': 0,\n",
       "    'title': 'Estelle Denis',\n",
       "    'pageid': 578085,\n",
       "    'size': 19056,\n",
       "    'wordcount': 1665,\n",
       "    'snippet': 'sport\\xa0! du 23 novembre 2015 au 5 novembre 2016, avant de retourner au <span class=\"searchmatch\">journalisme</span> sportif à la rentrée 2017 en rejoignant L&#039;Équipe pour présenter L&#039;Équipe',\n",
       "    'timestamp': '2025-10-17T11:23:57Z'},\n",
       "   {'ns': 0,\n",
       "    'title': 'Saskia De Ville',\n",
       "    'pageid': 11438551,\n",
       "    'size': 4746,\n",
       "    'wordcount': 429,\n",
       "    'snippet': 'une formation en <span class=\"searchmatch\">journalisme</span> de télévision à l’École supérieure de <span class=\"searchmatch\">journalisme</span> de Lille. En 2008, elle rejoint la station de radio <span class=\"searchmatch\">belge</span> Musiq3 de la RTBF',\n",
       "    'timestamp': '2024-01-15T12:36:39Z'},\n",
       "   {'ns': 0,\n",
       "    'title': 'Karen Minier',\n",
       "    'pageid': 990591,\n",
       "    'size': 5126,\n",
       "    'wordcount': 496,\n",
       "    'snippet': 'Cet article est une ébauche concernant la télévision <span class=\"searchmatch\">belge</span> et une personnalité <span class=\"searchmatch\">belge</span>. Vous pouvez partager vos connaissances en l’améliorant (comment\\xa0',\n",
       "    'timestamp': '2025-09-17T21:37:18Z'}]}}"
      ]
     },
     "execution_count": 3,
     "metadata": {},
     "output_type": "execute_result"
    }
   ],
   "source": [
    "import requests\n",
    "url = \"https://fr.wikipedia.org/w/api.php\"\n",
    "\n",
    "params = {\n",
    "    \"action\":\"query\",\n",
    "    \"list\":\"search\",\n",
    "    \"srsearch\":\"journalisme belge\",\n",
    "    \"format\":\"json\",\n",
    "    \"srlimit\": 10\n",
    "}\n",
    "\n",
    "headers = {'User-Agent': 'Mozilla/5.0 (Macintosh; Intel Mac OS X 10_10_1) AppleWebKit/537.36 (KHTML, like Gecko) Chrome/39.0.2171.95 Safari/537.36'}\n",
    "\n",
    "response = requests.get(url, params=params, headers=headers)\n",
    "\n",
    "data = response.json()\n",
    "data\n",
    "\n",
    "\n"
   ]
  },
  {
   "cell_type": "markdown",
   "metadata": {},
   "source": [
    "## Utiliser [Nominatim](https://nominatim.org/) pour connaître les coordonnées géographiques d'une adresse"
   ]
  },
  {
   "cell_type": "code",
   "execution_count": null,
   "metadata": {},
   "outputs": [],
   "source": [
    "address = \"Avenue Franklin Roosevelt, Ixelles\"\n",
    "\n",
    "\"\"\"Retrieve coordinates from Open Street Map\"\"\"\n",
    "headers = {'Referer': 'https://nominatim.openstreetmap.org/ui/search.html'}\n",
    "url = \"https://nominatim.openstreetmap.org/search\"\n",
    "data = {'q': address, 'format': 'json'}\n",
    "resp = requests.get(url, data, headers=headers)\n",
    "try:\n",
    "    json_list = json.loads(resp.text)\n",
    "except json.JSONDecodeError: # response is not in JSON as expected, probably the request is being blocked\n",
    "    print(resp.text)\n",
    "for item in json_list:\n",
    "    display_name = item['display_name']\n",
    "    short_name = display_name.split(\", \")[0]\n",
    "    lat = item['lat']\n",
    "    lon = item['lon']\n",
    "    print(f\"{short_name} ({lat} - {lon})\")\n"
   ]
  },
  {
   "cell_type": "markdown",
   "metadata": {},
   "source": [
    "## Utiliser REST Countries pour récupérer des informations sur un pays"
   ]
  },
  {
   "cell_type": "markdown",
   "metadata": {},
   "source": [
    "https://restcountries.com/"
   ]
  },
  {
   "cell_type": "code",
   "execution_count": null,
   "metadata": {},
   "outputs": [],
   "source": [
    "country_name = \"Belgium\"\n",
    "\n",
    "base_url = \"https://restcountries.com/v3.1/\"\n",
    "name_url = base_url + \"name/\"\n",
    "code_url = base_url + \"alpha/\"\n",
    "resp = requests.get(name_url + country_name)\n",
    "country = resp.json()[0]\n",
    "try:\n",
    "    languages = country['languages']\n",
    "    print(f\"Languages: {', '.join(languages.values())}\")\n",
    "    border_codes = country['borders']\n",
    "    border_names = []\n",
    "    for code in border_codes:\n",
    "        resp = requests.get(code_url + code)\n",
    "        border_country = resp.json()[0]\n",
    "        border_name = border_country[\"name\"][\"common\"]\n",
    "        border_names.append(border_name)\n",
    "    print(f\"Borders: {', '.join(border_names)}\")\n",
    "except KeyError:\n",
    "    print(\"Unknown country, please use English or native name\")"
   ]
  },
  {
   "cell_type": "markdown",
   "metadata": {},
   "source": [
    "## Pour en savoir plus"
   ]
  },
  {
   "cell_type": "markdown",
   "metadata": {},
   "source": [
    "- Les API Rest: https://towardsdatascience.com/introduction-to-rest-apis-90b5d9676004\n",
    "- La librairie [`requests`](https://requests.readthedocs.io/en/latest/)\n",
    "- Développer une API en Python : https://openclassrooms.com/en/courses/4525361-realisez-un-dashboard-avec-tableau/5774811-creez-une-api-avec-flask"
   ]
  }
 ],
 "metadata": {
  "kernelspec": {
   "display_name": ".venv",
   "language": "python",
   "name": "python3"
  },
  "language_info": {
   "codemirror_mode": {
    "name": "ipython",
    "version": 3
   },
   "file_extension": ".py",
   "mimetype": "text/x-python",
   "name": "python",
   "nbconvert_exporter": "python",
   "pygments_lexer": "ipython3",
   "version": "3.11.9"
  }
 },
 "nbformat": 4,
 "nbformat_minor": 4
}
